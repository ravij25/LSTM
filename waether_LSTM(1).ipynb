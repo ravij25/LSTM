{
 "cells": [
  {
   "cell_type": "code",
   "execution_count": 65,
   "metadata": {},
   "outputs": [],
   "source": [
    "#weather predcition Using LSTM Deplearning Model Assignment "
   ]
  },
  {
   "cell_type": "code",
   "execution_count": 4,
   "metadata": {},
   "outputs": [],
   "source": [
    "\n",
    "import numpy as np \n",
    "import seaborn as sns\n",
    "import matplotlib.pyplot as plt\n",
    "%matplotlib inline\n",
    "\n",
    "import warnings\n",
    "warnings.filterwarnings('ignore')"
   ]
  },
  {
   "cell_type": "code",
   "execution_count": 66,
   "metadata": {},
   "outputs": [
    {
     "data": {
      "text/html": [
       "<div>\n",
       "<style scoped>\n",
       "    .dataframe tbody tr th:only-of-type {\n",
       "        vertical-align: middle;\n",
       "    }\n",
       "\n",
       "    .dataframe tbody tr th {\n",
       "        vertical-align: top;\n",
       "    }\n",
       "\n",
       "    .dataframe thead th {\n",
       "        text-align: right;\n",
       "    }\n",
       "</style>\n",
       "<table border=\"1\" class=\"dataframe\">\n",
       "  <thead>\n",
       "    <tr style=\"text-align: right;\">\n",
       "      <th></th>\n",
       "      <th>datetime_utc</th>\n",
       "      <th>_conds</th>\n",
       "      <th>_dewptm</th>\n",
       "      <th>_fog</th>\n",
       "      <th>_hail</th>\n",
       "      <th>_heatindexm</th>\n",
       "      <th>_hum</th>\n",
       "      <th>_precipm</th>\n",
       "      <th>_pressurem</th>\n",
       "      <th>_rain</th>\n",
       "      <th>_snow</th>\n",
       "      <th>_tempm</th>\n",
       "      <th>_thunder</th>\n",
       "      <th>_tornado</th>\n",
       "      <th>_vism</th>\n",
       "      <th>_wdird</th>\n",
       "      <th>_wdire</th>\n",
       "      <th>_wgustm</th>\n",
       "      <th>_windchillm</th>\n",
       "      <th>_wspdm</th>\n",
       "    </tr>\n",
       "  </thead>\n",
       "  <tbody>\n",
       "    <tr>\n",
       "      <th>0</th>\n",
       "      <td>19961101-11:00</td>\n",
       "      <td>Smoke</td>\n",
       "      <td>9.0</td>\n",
       "      <td>0</td>\n",
       "      <td>0</td>\n",
       "      <td>NaN</td>\n",
       "      <td>27.0</td>\n",
       "      <td>NaN</td>\n",
       "      <td>1010.0</td>\n",
       "      <td>0</td>\n",
       "      <td>0</td>\n",
       "      <td>30.0</td>\n",
       "      <td>0</td>\n",
       "      <td>0</td>\n",
       "      <td>5.0</td>\n",
       "      <td>280.0</td>\n",
       "      <td>West</td>\n",
       "      <td>NaN</td>\n",
       "      <td>NaN</td>\n",
       "      <td>7.4</td>\n",
       "    </tr>\n",
       "    <tr>\n",
       "      <th>1</th>\n",
       "      <td>19961101-12:00</td>\n",
       "      <td>Smoke</td>\n",
       "      <td>10.0</td>\n",
       "      <td>0</td>\n",
       "      <td>0</td>\n",
       "      <td>NaN</td>\n",
       "      <td>32.0</td>\n",
       "      <td>NaN</td>\n",
       "      <td>-9999.0</td>\n",
       "      <td>0</td>\n",
       "      <td>0</td>\n",
       "      <td>28.0</td>\n",
       "      <td>0</td>\n",
       "      <td>0</td>\n",
       "      <td>NaN</td>\n",
       "      <td>0.0</td>\n",
       "      <td>North</td>\n",
       "      <td>NaN</td>\n",
       "      <td>NaN</td>\n",
       "      <td>NaN</td>\n",
       "    </tr>\n",
       "    <tr>\n",
       "      <th>2</th>\n",
       "      <td>19961101-13:00</td>\n",
       "      <td>Smoke</td>\n",
       "      <td>11.0</td>\n",
       "      <td>0</td>\n",
       "      <td>0</td>\n",
       "      <td>NaN</td>\n",
       "      <td>44.0</td>\n",
       "      <td>NaN</td>\n",
       "      <td>-9999.0</td>\n",
       "      <td>0</td>\n",
       "      <td>0</td>\n",
       "      <td>24.0</td>\n",
       "      <td>0</td>\n",
       "      <td>0</td>\n",
       "      <td>NaN</td>\n",
       "      <td>0.0</td>\n",
       "      <td>North</td>\n",
       "      <td>NaN</td>\n",
       "      <td>NaN</td>\n",
       "      <td>NaN</td>\n",
       "    </tr>\n",
       "    <tr>\n",
       "      <th>3</th>\n",
       "      <td>19961101-14:00</td>\n",
       "      <td>Smoke</td>\n",
       "      <td>10.0</td>\n",
       "      <td>0</td>\n",
       "      <td>0</td>\n",
       "      <td>NaN</td>\n",
       "      <td>41.0</td>\n",
       "      <td>NaN</td>\n",
       "      <td>1010.0</td>\n",
       "      <td>0</td>\n",
       "      <td>0</td>\n",
       "      <td>24.0</td>\n",
       "      <td>0</td>\n",
       "      <td>0</td>\n",
       "      <td>2.0</td>\n",
       "      <td>0.0</td>\n",
       "      <td>North</td>\n",
       "      <td>NaN</td>\n",
       "      <td>NaN</td>\n",
       "      <td>NaN</td>\n",
       "    </tr>\n",
       "    <tr>\n",
       "      <th>4</th>\n",
       "      <td>19961101-16:00</td>\n",
       "      <td>Smoke</td>\n",
       "      <td>11.0</td>\n",
       "      <td>0</td>\n",
       "      <td>0</td>\n",
       "      <td>NaN</td>\n",
       "      <td>47.0</td>\n",
       "      <td>NaN</td>\n",
       "      <td>1011.0</td>\n",
       "      <td>0</td>\n",
       "      <td>0</td>\n",
       "      <td>23.0</td>\n",
       "      <td>0</td>\n",
       "      <td>0</td>\n",
       "      <td>1.2</td>\n",
       "      <td>0.0</td>\n",
       "      <td>North</td>\n",
       "      <td>NaN</td>\n",
       "      <td>NaN</td>\n",
       "      <td>0.0</td>\n",
       "    </tr>\n",
       "  </tbody>\n",
       "</table>\n",
       "</div>"
      ],
      "text/plain": [
       "     datetime_utc  _conds   _dewptm   _fog   _hail   _heatindexm   _hum  \\\n",
       "0  19961101-11:00   Smoke       9.0      0       0           NaN   27.0   \n",
       "1  19961101-12:00   Smoke      10.0      0       0           NaN   32.0   \n",
       "2  19961101-13:00   Smoke      11.0      0       0           NaN   44.0   \n",
       "3  19961101-14:00   Smoke      10.0      0       0           NaN   41.0   \n",
       "4  19961101-16:00   Smoke      11.0      0       0           NaN   47.0   \n",
       "\n",
       "    _precipm   _pressurem   _rain   _snow   _tempm   _thunder   _tornado  \\\n",
       "0        NaN       1010.0       0       0     30.0          0          0   \n",
       "1        NaN      -9999.0       0       0     28.0          0          0   \n",
       "2        NaN      -9999.0       0       0     24.0          0          0   \n",
       "3        NaN       1010.0       0       0     24.0          0          0   \n",
       "4        NaN       1011.0       0       0     23.0          0          0   \n",
       "\n",
       "    _vism   _wdird  _wdire   _wgustm   _windchillm   _wspdm  \n",
       "0     5.0    280.0    West       NaN           NaN      7.4  \n",
       "1     NaN      0.0   North       NaN           NaN      NaN  \n",
       "2     NaN      0.0   North       NaN           NaN      NaN  \n",
       "3     2.0      0.0   North       NaN           NaN      NaN  \n",
       "4     1.2      0.0   North       NaN           NaN      0.0  "
      ]
     },
     "execution_count": 66,
     "metadata": {},
     "output_type": "execute_result"
    }
   ],
   "source": [
    "#imporing Data using Data frame \n",
    "import os, types\n",
    "import pandas as pd\n",
    "from botocore.client import Config\n",
    "import ibm_boto3\n",
    "\n",
    "def __iter__(self): return 0\n",
    "\n",
    "# @hidden_cell\n",
    "# The following code accesses a file in your IBM Cloud Object Storage. It includes your credentials.\n",
    "# You might want to remove those credentials before you share the notebook.\n",
    "client_534172691ebf43cdac65ae793bf14b35 = ibm_boto3.client(service_name='s3',\n",
    "    ibm_api_key_id='YFH5bm2xuIeo_jbLu1v5Q-QW_doo-c-lQvr6RwMg9CYJ',\n",
    "    ibm_auth_endpoint=\"https://iam.cloud.ibm.com/oidc/token\",\n",
    "    config=Config(signature_version='oauth'),\n",
    "    endpoint_url='https://s3.private.eu.cloud-object-storage.appdomain.cloud')\n",
    "\n",
    "body = client_534172691ebf43cdac65ae793bf14b35.get_object(Bucket='weatherpredictionlstm-donotdelete-pr-4dtpwildkxbte4',Key='testset.csv')['Body']\n",
    "# add missing __iter__ method, so pandas accepts body as file-like object\n",
    "if not hasattr(body, \"__iter__\"): body.__iter__ = types.MethodType( __iter__, body )\n",
    "\n",
    "df = pd.read_csv(body)\n",
    "df.head()\n"
   ]
  },
  {
   "cell_type": "code",
   "execution_count": 6,
   "metadata": {},
   "outputs": [],
   "source": [
    "data = pd.DataFrame(list(df[' _tempm']), index=df['datetime_utc'], columns=['temp'])"
   ]
  },
  {
   "cell_type": "code",
   "execution_count": 7,
   "metadata": {},
   "outputs": [
    {
     "data": {
      "text/html": [
       "<div>\n",
       "<style scoped>\n",
       "    .dataframe tbody tr th:only-of-type {\n",
       "        vertical-align: middle;\n",
       "    }\n",
       "\n",
       "    .dataframe tbody tr th {\n",
       "        vertical-align: top;\n",
       "    }\n",
       "\n",
       "    .dataframe thead th {\n",
       "        text-align: right;\n",
       "    }\n",
       "</style>\n",
       "<table border=\"1\" class=\"dataframe\">\n",
       "  <thead>\n",
       "    <tr style=\"text-align: right;\">\n",
       "      <th></th>\n",
       "      <th>temp</th>\n",
       "    </tr>\n",
       "    <tr>\n",
       "      <th>datetime_utc</th>\n",
       "      <th></th>\n",
       "    </tr>\n",
       "  </thead>\n",
       "  <tbody>\n",
       "    <tr>\n",
       "      <th>19961101-11:00</th>\n",
       "      <td>30.0</td>\n",
       "    </tr>\n",
       "    <tr>\n",
       "      <th>19961101-12:00</th>\n",
       "      <td>28.0</td>\n",
       "    </tr>\n",
       "    <tr>\n",
       "      <th>19961101-13:00</th>\n",
       "      <td>24.0</td>\n",
       "    </tr>\n",
       "    <tr>\n",
       "      <th>19961101-14:00</th>\n",
       "      <td>24.0</td>\n",
       "    </tr>\n",
       "    <tr>\n",
       "      <th>19961101-16:00</th>\n",
       "      <td>23.0</td>\n",
       "    </tr>\n",
       "    <tr>\n",
       "      <th>...</th>\n",
       "      <td>...</td>\n",
       "    </tr>\n",
       "    <tr>\n",
       "      <th>20170424-06:00</th>\n",
       "      <td>34.0</td>\n",
       "    </tr>\n",
       "    <tr>\n",
       "      <th>20170424-09:00</th>\n",
       "      <td>38.0</td>\n",
       "    </tr>\n",
       "    <tr>\n",
       "      <th>20170424-12:00</th>\n",
       "      <td>36.0</td>\n",
       "    </tr>\n",
       "    <tr>\n",
       "      <th>20170424-15:00</th>\n",
       "      <td>32.0</td>\n",
       "    </tr>\n",
       "    <tr>\n",
       "      <th>20170424-18:00</th>\n",
       "      <td>30.0</td>\n",
       "    </tr>\n",
       "  </tbody>\n",
       "</table>\n",
       "<p>100990 rows × 1 columns</p>\n",
       "</div>"
      ],
      "text/plain": [
       "                temp\n",
       "datetime_utc        \n",
       "19961101-11:00  30.0\n",
       "19961101-12:00  28.0\n",
       "19961101-13:00  24.0\n",
       "19961101-14:00  24.0\n",
       "19961101-16:00  23.0\n",
       "...              ...\n",
       "20170424-06:00  34.0\n",
       "20170424-09:00  38.0\n",
       "20170424-12:00  36.0\n",
       "20170424-15:00  32.0\n",
       "20170424-18:00  30.0\n",
       "\n",
       "[100990 rows x 1 columns]"
      ]
     },
     "execution_count": 7,
     "metadata": {},
     "output_type": "execute_result"
    }
   ],
   "source": [
    "data\n"
   ]
  },
  {
   "cell_type": "code",
   "execution_count": 8,
   "metadata": {},
   "outputs": [
    {
     "data": {
      "text/html": [
       "<div>\n",
       "<style scoped>\n",
       "    .dataframe tbody tr th:only-of-type {\n",
       "        vertical-align: middle;\n",
       "    }\n",
       "\n",
       "    .dataframe tbody tr th {\n",
       "        vertical-align: top;\n",
       "    }\n",
       "\n",
       "    .dataframe thead th {\n",
       "        text-align: right;\n",
       "    }\n",
       "</style>\n",
       "<table border=\"1\" class=\"dataframe\">\n",
       "  <thead>\n",
       "    <tr style=\"text-align: right;\">\n",
       "      <th></th>\n",
       "      <th>temp</th>\n",
       "    </tr>\n",
       "  </thead>\n",
       "  <tbody>\n",
       "    <tr>\n",
       "      <th>temp</th>\n",
       "      <td>1.0</td>\n",
       "    </tr>\n",
       "  </tbody>\n",
       "</table>\n",
       "</div>"
      ],
      "text/plain": [
       "      temp\n",
       "temp   1.0"
      ]
     },
     "execution_count": 8,
     "metadata": {},
     "output_type": "execute_result"
    }
   ],
   "source": [
    "data.corr()"
   ]
  },
  {
   "cell_type": "code",
   "execution_count": 9,
   "metadata": {},
   "outputs": [
    {
     "data": {
      "image/png": "[encoded data removed]",
      "text/plain": [
       "<Figure size 288x288 with 1 Axes>"
      ]
     },
     "metadata": {
      "needs_background": "light"
     },
     "output_type": "display_data"
    }
   ],
   "source": [
    "plt.matshow(data.corr())\n",
    "plt.show()"
   ]
  },
  {
   "cell_type": "code",
   "execution_count": 10,
   "metadata": {},
   "outputs": [],
   "source": [
    "df=data[:365]"
   ]
  },
  {
   "cell_type": "code",
   "execution_count": 11,
   "metadata": {},
   "outputs": [
    {
     "data": {
      "text/plain": [
       "(365, 1)"
      ]
     },
     "execution_count": 11,
     "metadata": {},
     "output_type": "execute_result"
    }
   ],
   "source": [
    "df.shape"
   ]
  },
  {
   "cell_type": "code",
   "execution_count": 12,
   "metadata": {},
   "outputs": [
    {
     "data": {
      "text/plain": [
       "temp    3\n",
       "dtype: int64"
      ]
     },
     "execution_count": 12,
     "metadata": {},
     "output_type": "execute_result"
    }
   ],
   "source": [
    "df.isnull().sum()"
   ]
  },
  {
   "cell_type": "code",
   "execution_count": 13,
   "metadata": {},
   "outputs": [],
   "source": [
    "df=df.dropna(axis=0)"
   ]
  },
  {
   "cell_type": "code",
   "execution_count": 14,
   "metadata": {},
   "outputs": [
    {
     "data": {
      "text/plain": [
       "(362, 1)"
      ]
     },
     "execution_count": 14,
     "metadata": {},
     "output_type": "execute_result"
    }
   ],
   "source": [
    "df.shape"
   ]
  },
  {
   "cell_type": "code",
   "execution_count": 15,
   "metadata": {},
   "outputs": [],
   "source": [
    "df=df['temp'].values"
   ]
  },
  {
   "cell_type": "code",
   "execution_count": 16,
   "metadata": {},
   "outputs": [
    {
     "data": {
      "text/plain": [
       "array([30., 28., 24., 24., 23.])"
      ]
     },
     "execution_count": 16,
     "metadata": {},
     "output_type": "execute_result"
    }
   ],
   "source": [
    "df[:5]"
   ]
  },
  {
   "cell_type": "code",
   "execution_count": 17,
   "metadata": {},
   "outputs": [],
   "source": [
    "df=df.reshape(-1,1)"
   ]
  },
  {
   "cell_type": "code",
   "execution_count": 18,
   "metadata": {},
   "outputs": [
    {
     "data": {
      "image/png": "[encoded data removed]",
      "text/plain": [
       "<Figure size 1800x504 with 1 Axes>"
      ]
     },
     "metadata": {
      "needs_background": "light"
     },
     "output_type": "display_data"
    }
   ],
   "source": [
    "plt.figure(figsize=(25, 7))\n",
    "plt.plot(df, linewidth=1)\n",
    "# plt.grid()\n",
    "plt.title(\"Time Series (temperature month wise for one year)\")\n",
    "plt.show()"
   ]
  },
  {
   "cell_type": "code",
   "execution_count": 19,
   "metadata": {},
   "outputs": [],
   "source": [
    "from sklearn.preprocessing import MinMaxScaler\n",
    "scaler = MinMaxScaler(feature_range=(0, 1))\n",
    "data_scaled = scaler.fit_transform(df)"
   ]
  },
  {
   "cell_type": "code",
   "execution_count": 20,
   "metadata": {},
   "outputs": [
    {
     "data": {
      "text/plain": [
       "array([[0.83333333],\n",
       "       [0.75      ],\n",
       "       [0.58333333],\n",
       "       [0.58333333],\n",
       "       [0.54166667]])"
      ]
     },
     "execution_count": 20,
     "metadata": {},
     "output_type": "execute_result"
    }
   ],
   "source": [
    "data_scaled[:5]"
   ]
  },
  {
   "cell_type": "code",
   "execution_count": 21,
   "metadata": {},
   "outputs": [
    {
     "data": {
      "text/plain": [
       "(362, 1)"
      ]
     },
     "execution_count": 21,
     "metadata": {},
     "output_type": "execute_result"
    }
   ],
   "source": [
    "data_scaled.shape"
   ]
  },
  {
   "cell_type": "code",
   "execution_count": 22,
   "metadata": {},
   "outputs": [],
   "source": [
    "steps= 20\n",
    "inp = []\n",
    "out = []\n",
    "for i in range(len(data_scaled) - (steps)):\n",
    "    inp.append(data_scaled[i:i+steps])\n",
    "    out.append(data_scaled[i+steps])"
   ]
  },
  {
   "cell_type": "code",
   "execution_count": 23,
   "metadata": {},
   "outputs": [
    {
     "data": {
      "text/plain": [
       "[array([0.875]),\n",
       " array([0.875]),\n",
       " array([0.875]),\n",
       " array([0.83333333]),\n",
       " array([0.70833333]),\n",
       " array([0.625]),\n",
       " array([0.5]),\n",
       " array([0.45833333]),\n",
       " array([0.375]),\n",
       " array([0.41666667]),\n",
       " array([0.375]),\n",
       " array([0.375]),\n",
       " array([0.29166667]),\n",
       " array([0.29166667]),\n",
       " array([0.29166667]),\n",
       " array([0.29166667]),\n",
       " array([0.29166667]),\n",
       " array([0.25]),\n",
       " array([0.29166667]),\n",
       " array([0.375])]"
      ]
     },
     "execution_count": 23,
     "metadata": {},
     "output_type": "execute_result"
    }
   ],
   "source": [
    "out[:20]"
   ]
  },
  {
   "cell_type": "code",
   "execution_count": 24,
   "metadata": {},
   "outputs": [],
   "source": [
    "inp= np.asanyarray(inp)\n",
    "out= np.asanyarray(out)"
   ]
  },
  {
   "cell_type": "code",
   "execution_count": 25,
   "metadata": {},
   "outputs": [
    {
     "data": {
      "text/plain": [
       "235.3"
      ]
     },
     "execution_count": 25,
     "metadata": {},
     "output_type": "execute_result"
    }
   ],
   "source": [
    "len(df)*0.65"
   ]
  },
  {
   "cell_type": "code",
   "execution_count": 26,
   "metadata": {},
   "outputs": [],
   "source": [
    "x_train = inp[:237,:,:]\n",
    "x_test = inp[237:,:,:]    \n",
    "y_train = out[:237]    \n",
    "y_test= out[237:]\n",
    "\n"
   ]
  },
  {
   "cell_type": "code",
   "execution_count": 27,
   "metadata": {},
   "outputs": [
    {
     "data": {
      "text/plain": [
       "(342, 20, 1)"
      ]
     },
     "execution_count": 27,
     "metadata": {},
     "output_type": "execute_result"
    }
   ],
   "source": [
    "inp.shape"
   ]
  },
  {
   "cell_type": "code",
   "execution_count": 28,
   "metadata": {},
   "outputs": [
    {
     "data": {
      "text/plain": [
       "(237, 20, 1)"
      ]
     },
     "execution_count": 28,
     "metadata": {},
     "output_type": "execute_result"
    }
   ],
   "source": [
    "x_train.shape"
   ]
  },
  {
   "cell_type": "code",
   "execution_count": 29,
   "metadata": {},
   "outputs": [
    {
     "data": {
      "text/plain": [
       "(105, 20, 1)"
      ]
     },
     "execution_count": 29,
     "metadata": {},
     "output_type": "execute_result"
    }
   ],
   "source": [
    "x_test.shape\n"
   ]
  },
  {
   "cell_type": "code",
   "execution_count": 30,
   "metadata": {},
   "outputs": [
    {
     "name": "stdout",
     "output_type": "stream",
     "text": [
      "Requirement already satisfied: Keras in /opt/conda/envs/Python-3.9/lib/python3.9/site-packages (2.7.0)\r\n"
     ]
    }
   ],
   "source": [
    "!pip install Keras"
   ]
  },
  {
   "cell_type": "code",
   "execution_count": 31,
   "metadata": {},
   "outputs": [
    {
     "name": "stdout",
     "output_type": "stream",
     "text": [
      "Collecting tensorflow\n",
      "  Downloading tensorflow-2.8.0-cp39-cp39-manylinux2010_x86_64.whl (497.6 MB)\n",
      "\u001b[K     |████████████████████████████████| 497.6 MB 16 kB/s s eta 0:00:01MB 14.1 MB/s eta 0:00:35                       | 35.2 MB 14.1 MB/s eta 0:00:33��█████████████▍    | 426.5 MB 44.2 MB/s eta 0:00:02\n",
      "\u001b[?25hCollecting keras<2.9,>=2.8.0rc0\n",
      "  Downloading keras-2.8.0-py2.py3-none-any.whl (1.4 MB)\n",
      "\u001b[K     |████████████████████████████████| 1.4 MB 64.5 MB/s eta 0:00:01\n",
      "\u001b[?25hCollecting astunparse>=1.6.0\n",
      "  Downloading astunparse-1.6.3-py2.py3-none-any.whl (12 kB)\n",
      "Collecting tf-estimator-nightly==2.8.0.dev2021122109\n",
      "  Downloading tf_estimator_nightly-2.8.0.dev2021122109-py2.py3-none-any.whl (462 kB)\n",
      "\u001b[K     |████████████████████████████████| 462 kB 70.7 MB/s eta 0:00:01\n",
      "\u001b[?25hCollecting flatbuffers>=1.12\n",
      "  Downloading flatbuffers-2.0-py2.py3-none-any.whl (26 kB)\n",
      "Collecting numpy>=1.20\n",
      "  Downloading numpy-1.22.3-cp39-cp39-manylinux_2_17_x86_64.manylinux2014_x86_64.whl (16.8 MB)\n",
      "\u001b[K     |████████████████████████████████| 16.8 MB 36.0 MB/s eta 0:00:01\n",
      "\u001b[?25hCollecting six>=1.12.0\n",
      "  Downloading six-1.16.0-py2.py3-none-any.whl (11 kB)\n",
      "Collecting wrapt>=1.11.0\n",
      "  Downloading wrapt-1.14.0-cp39-cp39-manylinux_2_5_x86_64.manylinux1_x86_64.manylinux_2_17_x86_64.manylinux2014_x86_64.whl (77 kB)\n",
      "\u001b[K     |████████████████████████████████| 77 kB 8.8 MB/s  eta 0:00:01\n",
      "\u001b[?25hCollecting absl-py>=0.4.0\n",
      "  Downloading absl_py-1.0.0-py3-none-any.whl (126 kB)\n",
      "\u001b[K     |████████████████████████████████| 126 kB 70.4 MB/s eta 0:00:01\n",
      "\u001b[?25hCollecting h5py>=2.9.0\n",
      "  Downloading h5py-3.6.0-cp39-cp39-manylinux_2_12_x86_64.manylinux2010_x86_64.whl (4.5 MB)\n",
      "\u001b[K     |████████████████████████████████| 4.5 MB 63.7 MB/s eta 0:00:01\n",
      "\u001b[?25hCollecting keras-preprocessing>=1.1.1\n",
      "  Downloading Keras_Preprocessing-1.1.2-py2.py3-none-any.whl (42 kB)\n",
      "\u001b[K     |████████████████████████████████| 42 kB 3.2 MB/s  eta 0:00:01\n",
      "\u001b[?25hCollecting setuptools\n",
      "  Downloading setuptools-62.0.0-py3-none-any.whl (1.1 MB)\n",
      "\u001b[K     |████████████████████████████████| 1.1 MB 65.4 MB/s eta 0:00:01\n",
      "\u001b[?25hCollecting protobuf>=3.9.2\n",
      "  Downloading protobuf-3.20.0-cp39-cp39-manylinux_2_5_x86_64.manylinux1_x86_64.whl (1.0 MB)\n",
      "\u001b[K     |████████████████████████████████| 1.0 MB 53.9 MB/s eta 0:00:01\n",
      "\u001b[?25hCollecting termcolor>=1.1.0\n",
      "  Downloading termcolor-1.1.0.tar.gz (3.9 kB)\n",
      "Collecting gast>=0.2.1\n",
      "  Downloading gast-0.5.3-py3-none-any.whl (19 kB)\n",
      "Collecting typing-extensions>=3.6.6\n",
      "  Downloading typing_extensions-4.1.1-py3-none-any.whl (26 kB)\n",
      "Collecting tensorboard<2.9,>=2.8\n",
      "  Downloading tensorboard-2.8.0-py3-none-any.whl (5.8 MB)\n",
      "\u001b[K     |████████████████████████████████| 5.8 MB 53.5 MB/s eta 0:00:01\n",
      "\u001b[?25hCollecting tensorflow-io-gcs-filesystem>=0.23.1\n",
      "  Downloading tensorflow_io_gcs_filesystem-0.24.0-cp39-cp39-manylinux_2_12_x86_64.manylinux2010_x86_64.whl (2.1 MB)\n",
      "\u001b[K     |████████████████████████████████| 2.1 MB 68.1 MB/s eta 0:00:01\n",
      "\u001b[?25hCollecting grpcio<2.0,>=1.24.3\n",
      "  Downloading grpcio-1.44.0-cp39-cp39-manylinux_2_17_x86_64.manylinux2014_x86_64.whl (4.3 MB)\n",
      "\u001b[K     |████████████████████████████████| 4.3 MB 66.6 MB/s eta 0:00:01\n",
      "\u001b[?25hCollecting libclang>=9.0.1\n",
      "  Downloading libclang-13.0.0-py2.py3-none-manylinux1_x86_64.whl (14.5 MB)\n",
      "\u001b[K     |████████████████████████████████| 14.5 MB 54.7 MB/s eta 0:00:01\n",
      "\u001b[?25hCollecting opt-einsum>=2.3.2\n",
      "  Downloading opt_einsum-3.3.0-py3-none-any.whl (65 kB)\n",
      "\u001b[K     |████████████████████████████████| 65 kB 9.5 MB/s  eta 0:00:01\n",
      "\u001b[?25hCollecting google-pasta>=0.1.1\n",
      "  Downloading google_pasta-0.2.0-py3-none-any.whl (57 kB)\n",
      "\u001b[K     |████████████████████████████████| 57 kB 12.9 MB/s eta 0:00:01\n",
      "\u001b[?25hCollecting wheel<1.0,>=0.23.0\n",
      "  Downloading wheel-0.37.1-py2.py3-none-any.whl (35 kB)\n",
      "Collecting markdown>=2.6.8\n",
      "  Downloading Markdown-3.3.6-py3-none-any.whl (97 kB)\n",
      "\u001b[K     |████████████████████████████████| 97 kB 16.9 MB/s eta 0:00:01\n",
      "\u001b[?25hCollecting tensorboard-data-server<0.7.0,>=0.6.0\n",
      "  Downloading tensorboard_data_server-0.6.1-py3-none-manylinux2010_x86_64.whl (4.9 MB)\n",
      "\u001b[K     |████████████████████████████████| 4.9 MB 63.4 MB/s eta 0:00:01\n",
      "\u001b[?25hCollecting google-auth-oauthlib<0.5,>=0.4.1\n",
      "  Downloading google_auth_oauthlib-0.4.6-py2.py3-none-any.whl (18 kB)\n",
      "Collecting tensorboard-plugin-wit>=1.6.0\n",
      "  Downloading tensorboard_plugin_wit-1.8.1-py3-none-any.whl (781 kB)\n",
      "\u001b[K     |████████████████████████████████| 781 kB 61.3 MB/s eta 0:00:01\n",
      "\u001b[?25hCollecting werkzeug>=0.11.15\n",
      "  Downloading Werkzeug-2.1.1-py3-none-any.whl (224 kB)\n",
      "\u001b[K     |████████████████████████████████| 224 kB 68.5 MB/s eta 0:00:01\n",
      "\u001b[?25hCollecting google-auth<3,>=1.6.3\n",
      "  Downloading google_auth-2.6.2-py2.py3-none-any.whl (156 kB)\n",
      "\u001b[K     |████████████████████████████████| 156 kB 66.4 MB/s eta 0:00:01\n",
      "\u001b[?25hCollecting requests<3,>=2.21.0\n",
      "  Downloading requests-2.27.1-py2.py3-none-any.whl (63 kB)\n",
      "\u001b[K     |████████████████████████████████| 63 kB 4.1 MB/s  eta 0:00:01\n",
      "\u001b[?25hCollecting pyasn1-modules>=0.2.1\n",
      "  Downloading pyasn1_modules-0.2.8-py2.py3-none-any.whl (155 kB)\n",
      "\u001b[K     |████████████████████████████████| 155 kB 67.3 MB/s eta 0:00:01\n",
      "\u001b[?25hCollecting rsa<5,>=3.1.4\n",
      "  Downloading rsa-4.8-py3-none-any.whl (39 kB)\n",
      "Collecting cachetools<6.0,>=2.0.0\n",
      "  Downloading cachetools-5.0.0-py3-none-any.whl (9.1 kB)\n",
      "Collecting requests-oauthlib>=0.7.0\n",
      "  Downloading requests_oauthlib-1.3.1-py2.py3-none-any.whl (23 kB)\n",
      "Collecting importlib-metadata>=4.4\n",
      "  Downloading importlib_metadata-4.11.3-py3-none-any.whl (18 kB)\n",
      "Collecting zipp>=0.5\n",
      "  Downloading zipp-3.8.0-py3-none-any.whl (5.4 kB)\n",
      "Collecting pyasn1<0.5.0,>=0.4.6\n",
      "  Downloading pyasn1-0.4.8-py2.py3-none-any.whl (77 kB)\n",
      "\u001b[K     |████████████████████████████████| 77 kB 14.4 MB/s eta 0:00:01\n",
      "\u001b[?25hCollecting idna<4,>=2.5\n",
      "  Downloading idna-3.3-py3-none-any.whl (61 kB)\n",
      "\u001b[K     |████████████████████████████████| 61 kB 19.6 MB/s eta 0:00:01\n",
      "\u001b[?25hCollecting certifi>=2017.4.17\n",
      "  Downloading certifi-2021.10.8-py2.py3-none-any.whl (149 kB)\n",
      "\u001b[K     |████████████████████████████████| 149 kB 70.6 MB/s eta 0:00:01\n",
      "\u001b[?25hCollecting urllib3<1.27,>=1.21.1\n",
      "  Downloading urllib3-1.26.9-py2.py3-none-any.whl (138 kB)\n",
      "\u001b[K     |████████████████████████████████| 138 kB 65.6 MB/s eta 0:00:01\n",
      "\u001b[?25hCollecting charset-normalizer~=2.0.0\n",
      "  Downloading charset_normalizer-2.0.12-py3-none-any.whl (39 kB)\n",
      "Collecting oauthlib>=3.0.0\n",
      "  Downloading oauthlib-3.2.0-py3-none-any.whl (151 kB)\n",
      "\u001b[K     |████████████████████████████████| 151 kB 62.9 MB/s eta 0:00:01\n",
      "\u001b[?25hBuilding wheels for collected packages: termcolor\n",
      "  Building wheel for termcolor (setup.py) ... \u001b[?25ldone\n",
      "\u001b[?25h  Created wheel for termcolor: filename=termcolor-1.1.0-py3-none-any.whl size=4847 sha256=0fdaeaa4f213c910413ff5083c15bf509075eff09d249e9e36c7f8680b3c70b2\n",
      "  Stored in directory: /tmp/wsuser/.cache/pip/wheels/b6/0d/90/0d1bbd99855f99cb2f6c2e5ff96f8023fad8ec367695f7d72d\n",
      "Successfully built termcolor\n",
      "Installing collected packages: urllib3, pyasn1, idna, charset-normalizer, certifi, zipp, six, rsa, requests, pyasn1-modules, oauthlib, cachetools, requests-oauthlib, importlib-metadata, google-auth, wheel, werkzeug, tensorboard-plugin-wit, tensorboard-data-server, setuptools, protobuf, numpy, markdown, grpcio, google-auth-oauthlib, absl-py, wrapt, typing-extensions, tf-estimator-nightly, termcolor, tensorflow-io-gcs-filesystem, tensorboard, opt-einsum, libclang, keras-preprocessing, keras, h5py, google-pasta, gast, flatbuffers, astunparse, tensorflow\n",
      "\u001b[31mERROR: pip's dependency resolver does not currently take into account all the packages that are installed. This behaviour is the source of the following dependency conflicts.\n",
      "tf2onnx 1.9.3 requires flatbuffers~=1.12, but you have flatbuffers 2.0 which is incompatible.\n",
      "tensorflow-text 2.7.3 requires tensorflow<2.8,>=2.7.0, but you have tensorflow 2.8.0 which is incompatible.\n",
      "tensorflow-metadata 1.5.0 requires absl-py<0.13,>=0.9, but you have absl-py 1.0.0 which is incompatible.\n",
      "numba 0.54.1 requires numpy<1.21,>=1.17, but you have numpy 1.22.3 which is incompatible.\n",
      "autoai-libs 1.13.2 requires numpy<1.22,>=1.19.2; python_version >= \"3.9\", but you have numpy 1.22.3 which is incompatible.\u001b[0m\n",
      "Successfully installed absl-py-1.0.0 astunparse-1.6.3 cachetools-5.0.0 certifi-2021.10.8 charset-normalizer-2.0.12 flatbuffers-20210226132247 gast-0.5.3 google-auth-2.6.2 google-auth-oauthlib-0.4.6 google-pasta-0.2.0 grpcio-1.44.0 h5py-3.6.0 idna-3.3 importlib-metadata-4.11.3 keras-2.8.0 keras-preprocessing-1.1.2 libclang-13.0.0 markdown-3.3.6 numpy-1.22.3 oauthlib-3.2.0 opt-einsum-3.3.0 protobuf-3.20.0 pyasn1-0.4.8 pyasn1-modules-0.2.8 requests-2.27.1 requests-oauthlib-1.3.1 rsa-4.8 setuptools-62.0.0 six-1.16.0 tensorboard-2.8.0 tensorboard-data-server-0.6.1 tensorboard-plugin-wit-1.8.1 tensorflow-2.8.0 tensorflow-io-gcs-filesystem-0.24.0 termcolor-1.1.0 tf-estimator-nightly-2.8.0.dev2021122109 typing-extensions-4.1.1 urllib3-1.26.9 werkzeug-2.1.1 wheel-0.37.1 wrapt-1.14.0 zipp-3.8.0\n"
     ]
    }
   ],
   "source": [
    "!pip install --ignore-installed --upgrade tensorflow"
   ]
  },
  {
   "cell_type": "code",
   "execution_count": 32,
   "metadata": {},
   "outputs": [
    {
     "name": "stderr",
     "output_type": "stream",
     "text": [
      "2022-04-05 00:33:00.582004: W tensorflow/stream_executor/platform/default/dso_loader.cc:64] Could not load dynamic library 'libcudart.so.11.0'; dlerror: libcudart.so.11.0: cannot open shared object file: No such file or directory; LD_LIBRARY_PATH: /opt/ibm/dsdriver/lib:/opt/oracle/lib:/opt/conda/envs/Python-3.9/lib/python3.9/site-packages/tensorflow\n"
     ]
    }
   ],
   "source": [
    "import tensorflow as tf "
   ]
  },
  {
   "cell_type": "code",
   "execution_count": 33,
   "metadata": {},
   "outputs": [],
   "source": [
    "import matplotlib.pyplot as plt\n",
    "import seaborn as sns\n",
    "from tensorflow.keras.layers import Dense,RepeatVector, LSTM, Dropout\n",
    "from tensorflow.keras.layers import Flatten, Conv1D, MaxPooling1D\n",
    "from tensorflow.keras.layers import Bidirectional, Dropout\n",
    "from tensorflow.keras.models import Sequential\n",
    "from tensorflow.keras.utils import plot_model\n"
   ]
  },
  {
   "cell_type": "code",
   "execution_count": 34,
   "metadata": {},
   "outputs": [
    {
     "name": "stderr",
     "output_type": "stream",
     "text": [
      "2022-04-05 00:33:02.538134: W tensorflow/stream_executor/platform/default/dso_loader.cc:64] Could not load dynamic library 'libcuda.so.1'; dlerror: libcuda.so.1: cannot open shared object file: No such file or directory; LD_LIBRARY_PATH: /opt/ibm/dsdriver/lib:/opt/oracle/lib:/opt/conda/envs/Python-3.9/lib/python3.9/site-packages/tensorflow\n",
      "2022-04-05 00:33:02.538203: W tensorflow/stream_executor/cuda/cuda_driver.cc:269] failed call to cuInit: UNKNOWN ERROR (303)\n"
     ]
    }
   ],
   "source": [
    "model = Sequential()\n",
    "model.add(LSTM(50, return_sequences= True, input_shape= (20,1)))\n",
    "model.add(LSTM(50, return_sequences=True))\n",
    "model.add(LSTM(50))\n",
    "model.add(Dense(1))\n",
    "model.compile(loss = 'mean_squared_error', optimizer = 'adam')\n",
    "model = Sequential()\n",
    "model.add(LSTM(50, return_sequences= True, input_shape= (20,1)))\n",
    "model.add(LSTM(50, return_sequences=True))\n",
    "model.add(LSTM(50))\n",
    "model.add(Dense(1))\n",
    "model.compile(loss = 'mean_squared_error', optimizer = 'adam')"
   ]
  },
  {
   "cell_type": "code",
   "execution_count": 35,
   "metadata": {},
   "outputs": [
    {
     "name": "stdout",
     "output_type": "stream",
     "text": [
      "Epoch 1/300\n",
      "8/8 [==============================] - 6s 98ms/step - loss: 0.1238\n",
      "Epoch 2/300\n",
      "8/8 [==============================] - 0s 60ms/step - loss: 0.0695\n",
      "Epoch 3/300\n",
      "8/8 [==============================] - 0s 57ms/step - loss: 0.0611\n",
      "Epoch 4/300\n",
      "8/8 [==============================] - 0s 56ms/step - loss: 0.0530\n",
      "Epoch 5/300\n",
      "8/8 [==============================] - 0s 53ms/step - loss: 0.0523\n",
      "Epoch 6/300\n",
      "8/8 [==============================] - 0s 52ms/step - loss: 0.0502\n",
      "Epoch 7/300\n",
      "8/8 [==============================] - 0s 54ms/step - loss: 0.0472\n",
      "Epoch 8/300\n",
      "8/8 [==============================] - 0s 51ms/step - loss: 0.0459\n",
      "Epoch 9/300\n",
      "8/8 [==============================] - 0s 51ms/step - loss: 0.0439\n",
      "Epoch 10/300\n",
      "8/8 [==============================] - 0s 54ms/step - loss: 0.0419\n",
      "Epoch 11/300\n",
      "8/8 [==============================] - 0s 51ms/step - loss: 0.0390\n",
      "Epoch 12/300\n",
      "8/8 [==============================] - 0s 58ms/step - loss: 0.0359\n",
      "Epoch 13/300\n",
      "8/8 [==============================] - 0s 54ms/step - loss: 0.0308\n",
      "Epoch 14/300\n",
      "8/8 [==============================] - 0s 58ms/step - loss: 0.0224\n",
      "Epoch 15/300\n",
      "8/8 [==============================] - 1s 75ms/step - loss: 0.0284\n",
      "Epoch 16/300\n",
      "8/8 [==============================] - 1s 73ms/step - loss: 0.0220\n",
      "Epoch 17/300\n",
      "8/8 [==============================] - 0s 59ms/step - loss: 0.0229\n",
      "Epoch 18/300\n",
      "8/8 [==============================] - 0s 61ms/step - loss: 0.0187\n",
      "Epoch 19/300\n",
      "8/8 [==============================] - 0s 54ms/step - loss: 0.0175\n",
      "Epoch 20/300\n",
      "8/8 [==============================] - 0s 58ms/step - loss: 0.0168\n",
      "Epoch 21/300\n",
      "8/8 [==============================] - 0s 56ms/step - loss: 0.0158\n",
      "Epoch 22/300\n",
      "8/8 [==============================] - 0s 50ms/step - loss: 0.0153\n",
      "Epoch 23/300\n",
      "8/8 [==============================] - 0s 60ms/step - loss: 0.0136\n",
      "Epoch 24/300\n",
      "8/8 [==============================] - 1s 73ms/step - loss: 0.0129\n",
      "Epoch 25/300\n",
      "8/8 [==============================] - 0s 51ms/step - loss: 0.0121\n",
      "Epoch 26/300\n",
      "8/8 [==============================] - 0s 51ms/step - loss: 0.0112\n",
      "Epoch 27/300\n",
      "8/8 [==============================] - 0s 59ms/step - loss: 0.0105\n",
      "Epoch 28/300\n",
      "8/8 [==============================] - 0s 54ms/step - loss: 0.0102\n",
      "Epoch 29/300\n",
      "8/8 [==============================] - 0s 49ms/step - loss: 0.0097\n",
      "Epoch 30/300\n",
      "8/8 [==============================] - 0s 52ms/step - loss: 0.0099\n",
      "Epoch 31/300\n",
      "8/8 [==============================] - 0s 49ms/step - loss: 0.0084\n",
      "Epoch 32/300\n",
      "8/8 [==============================] - 0s 49ms/step - loss: 0.0081\n",
      "Epoch 33/300\n",
      "8/8 [==============================] - 0s 54ms/step - loss: 0.0083\n",
      "Epoch 34/300\n",
      "8/8 [==============================] - 0s 57ms/step - loss: 0.0079\n",
      "Epoch 35/300\n",
      "8/8 [==============================] - 0s 57ms/step - loss: 0.0078\n",
      "Epoch 36/300\n",
      "8/8 [==============================] - 0s 57ms/step - loss: 0.0081\n",
      "Epoch 37/300\n",
      "8/8 [==============================] - 0s 60ms/step - loss: 0.0083\n",
      "Epoch 38/300\n",
      "8/8 [==============================] - 0s 52ms/step - loss: 0.0077\n",
      "Epoch 39/300\n",
      "8/8 [==============================] - 0s 61ms/step - loss: 0.0076\n",
      "Epoch 40/300\n",
      "8/8 [==============================] - 0s 60ms/step - loss: 0.0077\n",
      "Epoch 41/300\n",
      "8/8 [==============================] - 1s 64ms/step - loss: 0.0080\n",
      "Epoch 42/300\n",
      "8/8 [==============================] - 1s 110ms/step - loss: 0.0076\n",
      "Epoch 43/300\n",
      "8/8 [==============================] - 0s 58ms/step - loss: 0.0076\n",
      "Epoch 44/300\n",
      "8/8 [==============================] - 1s 69ms/step - loss: 0.0074\n",
      "Epoch 45/300\n",
      "8/8 [==============================] - 0s 54ms/step - loss: 0.0077\n",
      "Epoch 46/300\n",
      "8/8 [==============================] - 0s 54ms/step - loss: 0.0076\n",
      "Epoch 47/300\n",
      "8/8 [==============================] - 0s 52ms/step - loss: 0.0070\n",
      "Epoch 48/300\n",
      "8/8 [==============================] - 0s 49ms/step - loss: 0.0070\n",
      "Epoch 49/300\n",
      "8/8 [==============================] - 0s 55ms/step - loss: 0.0078\n",
      "Epoch 50/300\n",
      "8/8 [==============================] - 0s 60ms/step - loss: 0.0080\n",
      "Epoch 51/300\n",
      "8/8 [==============================] - 1s 68ms/step - loss: 0.0069\n",
      "Epoch 52/300\n",
      "8/8 [==============================] - 1s 64ms/step - loss: 0.0069\n",
      "Epoch 53/300\n",
      "8/8 [==============================] - 0s 60ms/step - loss: 0.0070\n",
      "Epoch 54/300\n",
      "8/8 [==============================] - 0s 55ms/step - loss: 0.0081\n",
      "Epoch 55/300\n",
      "8/8 [==============================] - 1s 67ms/step - loss: 0.0087\n",
      "Epoch 56/300\n",
      "8/8 [==============================] - 0s 55ms/step - loss: 0.0074\n",
      "Epoch 57/300\n",
      "8/8 [==============================] - 1s 70ms/step - loss: 0.0073\n",
      "Epoch 58/300\n",
      "8/8 [==============================] - 0s 54ms/step - loss: 0.0075\n",
      "Epoch 59/300\n",
      "8/8 [==============================] - 1s 86ms/step - loss: 0.0068\n",
      "Epoch 60/300\n",
      "8/8 [==============================] - 0s 63ms/step - loss: 0.0070\n",
      "Epoch 61/300\n",
      "8/8 [==============================] - 0s 55ms/step - loss: 0.0067\n",
      "Epoch 62/300\n",
      "8/8 [==============================] - 0s 52ms/step - loss: 0.0069\n",
      "Epoch 63/300\n",
      "8/8 [==============================] - 0s 60ms/step - loss: 0.0065\n",
      "Epoch 64/300\n",
      "8/8 [==============================] - 0s 52ms/step - loss: 0.0065\n",
      "Epoch 65/300\n",
      "8/8 [==============================] - 0s 52ms/step - loss: 0.0060\n",
      "Epoch 66/300\n",
      "8/8 [==============================] - 0s 51ms/step - loss: 0.0058\n",
      "Epoch 67/300\n",
      "8/8 [==============================] - 0s 58ms/step - loss: 0.0061\n",
      "Epoch 68/300\n",
      "8/8 [==============================] - 0s 56ms/step - loss: 0.0059\n",
      "Epoch 69/300\n",
      "8/8 [==============================] - 0s 61ms/step - loss: 0.0057\n",
      "Epoch 70/300\n",
      "8/8 [==============================] - 0s 58ms/step - loss: 0.0056\n",
      "Epoch 71/300\n",
      "8/8 [==============================] - 0s 60ms/step - loss: 0.0054\n",
      "Epoch 72/300\n",
      "8/8 [==============================] - 0s 62ms/step - loss: 0.0054\n",
      "Epoch 73/300\n",
      "8/8 [==============================] - 0s 56ms/step - loss: 0.0051\n",
      "Epoch 74/300\n",
      "8/8 [==============================] - 0s 52ms/step - loss: 0.0055\n",
      "Epoch 75/300\n",
      "8/8 [==============================] - 0s 51ms/step - loss: 0.0050\n",
      "Epoch 76/300\n",
      "8/8 [==============================] - 0s 49ms/step - loss: 0.0053\n",
      "Epoch 77/300\n",
      "8/8 [==============================] - 0s 52ms/step - loss: 0.0052\n",
      "Epoch 78/300\n",
      "8/8 [==============================] - 0s 54ms/step - loss: 0.0056\n",
      "Epoch 79/300\n",
      "8/8 [==============================] - 0s 58ms/step - loss: 0.0047\n",
      "Epoch 80/300\n",
      "8/8 [==============================] - 0s 60ms/step - loss: 0.0055\n",
      "Epoch 81/300\n",
      "8/8 [==============================] - 0s 57ms/step - loss: 0.0056\n",
      "Epoch 82/300\n",
      "8/8 [==============================] - 0s 57ms/step - loss: 0.0047\n",
      "Epoch 83/300\n",
      "8/8 [==============================] - 0s 52ms/step - loss: 0.0045\n",
      "Epoch 84/300\n",
      "8/8 [==============================] - 0s 52ms/step - loss: 0.0043\n",
      "Epoch 85/300\n",
      "8/8 [==============================] - 0s 57ms/step - loss: 0.0043\n",
      "Epoch 86/300\n",
      "8/8 [==============================] - 0s 53ms/step - loss: 0.0041\n",
      "Epoch 87/300\n",
      "8/8 [==============================] - 0s 52ms/step - loss: 0.0043\n",
      "Epoch 88/300\n",
      "8/8 [==============================] - 0s 54ms/step - loss: 0.0045\n",
      "Epoch 89/300\n",
      "8/8 [==============================] - 0s 62ms/step - loss: 0.0045\n",
      "Epoch 90/300\n",
      "8/8 [==============================] - 0s 52ms/step - loss: 0.0042\n",
      "Epoch 91/300\n",
      "8/8 [==============================] - 0s 49ms/step - loss: 0.0041\n",
      "Epoch 92/300\n",
      "8/8 [==============================] - 0s 49ms/step - loss: 0.0043\n",
      "Epoch 93/300\n",
      "8/8 [==============================] - 0s 49ms/step - loss: 0.0041\n",
      "Epoch 94/300\n",
      "8/8 [==============================] - 0s 49ms/step - loss: 0.0037\n",
      "Epoch 95/300\n",
      "8/8 [==============================] - 0s 49ms/step - loss: 0.0039\n",
      "Epoch 96/300\n",
      "8/8 [==============================] - 0s 52ms/step - loss: 0.0037\n",
      "Epoch 97/300\n",
      "8/8 [==============================] - 0s 55ms/step - loss: 0.0043\n",
      "Epoch 98/300\n",
      "8/8 [==============================] - 0s 54ms/step - loss: 0.0037\n",
      "Epoch 99/300\n",
      "8/8 [==============================] - 0s 57ms/step - loss: 0.0045\n",
      "Epoch 100/300\n",
      "8/8 [==============================] - 0s 53ms/step - loss: 0.0037\n",
      "Epoch 101/300\n",
      "8/8 [==============================] - 1s 66ms/step - loss: 0.0042\n",
      "Epoch 102/300\n",
      "8/8 [==============================] - 0s 60ms/step - loss: 0.0046\n",
      "Epoch 103/300\n",
      "8/8 [==============================] - 0s 58ms/step - loss: 0.0043\n",
      "Epoch 104/300\n",
      "8/8 [==============================] - 0s 62ms/step - loss: 0.0037\n",
      "Epoch 105/300\n",
      "8/8 [==============================] - 1s 63ms/step - loss: 0.0035\n",
      "Epoch 106/300\n",
      "8/8 [==============================] - 0s 61ms/step - loss: 0.0037\n",
      "Epoch 107/300\n",
      "8/8 [==============================] - 0s 58ms/step - loss: 0.0038\n",
      "Epoch 108/300\n",
      "8/8 [==============================] - 0s 57ms/step - loss: 0.0039\n",
      "Epoch 109/300\n",
      "8/8 [==============================] - 0s 57ms/step - loss: 0.0034\n",
      "Epoch 110/300\n",
      "8/8 [==============================] - 0s 63ms/step - loss: 0.0034\n",
      "Epoch 111/300\n",
      "8/8 [==============================] - 0s 60ms/step - loss: 0.0036\n",
      "Epoch 112/300\n",
      "8/8 [==============================] - 0s 59ms/step - loss: 0.0037\n",
      "Epoch 113/300\n",
      "8/8 [==============================] - 0s 62ms/step - loss: 0.0039\n",
      "Epoch 114/300\n",
      "8/8 [==============================] - 1s 76ms/step - loss: 0.0047\n",
      "Epoch 115/300\n",
      "8/8 [==============================] - 0s 57ms/step - loss: 0.0044\n",
      "Epoch 116/300\n",
      "8/8 [==============================] - 1s 69ms/step - loss: 0.0048\n",
      "Epoch 117/300\n",
      "8/8 [==============================] - 0s 60ms/step - loss: 0.0042\n",
      "Epoch 118/300\n",
      "8/8 [==============================] - 1s 71ms/step - loss: 0.0038\n",
      "Epoch 119/300\n",
      "8/8 [==============================] - 0s 57ms/step - loss: 0.0037\n",
      "Epoch 120/300\n",
      "8/8 [==============================] - 1s 66ms/step - loss: 0.0033\n",
      "Epoch 121/300\n",
      "8/8 [==============================] - 0s 58ms/step - loss: 0.0034\n",
      "Epoch 122/300\n",
      "8/8 [==============================] - 1s 74ms/step - loss: 0.0034\n",
      "Epoch 123/300\n",
      "8/8 [==============================] - 0s 56ms/step - loss: 0.0031\n",
      "Epoch 124/300\n",
      "8/8 [==============================] - 0s 55ms/step - loss: 0.0032\n",
      "Epoch 125/300\n",
      "8/8 [==============================] - 1s 64ms/step - loss: 0.0033\n",
      "Epoch 126/300\n",
      "8/8 [==============================] - 0s 61ms/step - loss: 0.0032\n",
      "Epoch 127/300\n",
      "8/8 [==============================] - 0s 61ms/step - loss: 0.0039\n",
      "Epoch 128/300\n",
      "8/8 [==============================] - 0s 63ms/step - loss: 0.0041\n",
      "Epoch 129/300\n",
      "8/8 [==============================] - 0s 60ms/step - loss: 0.0034\n",
      "Epoch 130/300\n",
      "8/8 [==============================] - 0s 59ms/step - loss: 0.0032\n",
      "Epoch 131/300\n",
      "8/8 [==============================] - 0s 62ms/step - loss: 0.0030\n",
      "Epoch 132/300\n",
      "8/8 [==============================] - 0s 51ms/step - loss: 0.0031\n",
      "Epoch 133/300\n",
      "8/8 [==============================] - 0s 52ms/step - loss: 0.0030\n",
      "Epoch 134/300\n",
      "8/8 [==============================] - 0s 53ms/step - loss: 0.0029\n",
      "Epoch 135/300\n",
      "8/8 [==============================] - 0s 58ms/step - loss: 0.0031\n",
      "Epoch 136/300\n",
      "8/8 [==============================] - 0s 55ms/step - loss: 0.0040\n",
      "Epoch 137/300\n",
      "8/8 [==============================] - 0s 59ms/step - loss: 0.0034\n",
      "Epoch 138/300\n",
      "8/8 [==============================] - 0s 57ms/step - loss: 0.0030\n",
      "Epoch 139/300\n",
      "8/8 [==============================] - 0s 57ms/step - loss: 0.0029\n",
      "Epoch 140/300\n",
      "8/8 [==============================] - 0s 59ms/step - loss: 0.0030\n",
      "Epoch 141/300\n",
      "8/8 [==============================] - 0s 57ms/step - loss: 0.0030\n",
      "Epoch 142/300\n",
      "8/8 [==============================] - 0s 58ms/step - loss: 0.0030\n",
      "Epoch 143/300\n",
      "8/8 [==============================] - 0s 60ms/step - loss: 0.0032\n",
      "Epoch 144/300\n",
      "8/8 [==============================] - 0s 61ms/step - loss: 0.0031\n",
      "Epoch 145/300\n",
      "8/8 [==============================] - 0s 51ms/step - loss: 0.0030\n",
      "Epoch 146/300\n",
      "8/8 [==============================] - 0s 57ms/step - loss: 0.0031\n",
      "Epoch 147/300\n",
      "8/8 [==============================] - 0s 60ms/step - loss: 0.0032\n",
      "Epoch 148/300\n",
      "8/8 [==============================] - 0s 59ms/step - loss: 0.0034\n",
      "Epoch 149/300\n",
      "8/8 [==============================] - 0s 58ms/step - loss: 0.0032\n",
      "Epoch 150/300\n",
      "8/8 [==============================] - 0s 57ms/step - loss: 0.0030\n",
      "Epoch 151/300\n",
      "8/8 [==============================] - 0s 58ms/step - loss: 0.0029\n",
      "Epoch 152/300\n",
      "8/8 [==============================] - 0s 56ms/step - loss: 0.0029\n",
      "Epoch 153/300\n",
      "8/8 [==============================] - 0s 59ms/step - loss: 0.0029\n",
      "Epoch 154/300\n",
      "8/8 [==============================] - 0s 51ms/step - loss: 0.0032\n",
      "Epoch 155/300\n",
      "8/8 [==============================] - 0s 55ms/step - loss: 0.0040\n",
      "Epoch 156/300\n",
      "8/8 [==============================] - 0s 55ms/step - loss: 0.0033\n",
      "Epoch 157/300\n",
      "8/8 [==============================] - 0s 51ms/step - loss: 0.0035\n",
      "Epoch 158/300\n",
      "8/8 [==============================] - 0s 51ms/step - loss: 0.0031\n",
      "Epoch 159/300\n",
      "8/8 [==============================] - 0s 49ms/step - loss: 0.0030\n",
      "Epoch 160/300\n",
      "8/8 [==============================] - 0s 51ms/step - loss: 0.0035\n",
      "Epoch 161/300\n",
      "8/8 [==============================] - 0s 54ms/step - loss: 0.0032\n",
      "Epoch 162/300\n",
      "8/8 [==============================] - 0s 51ms/step - loss: 0.0029\n",
      "Epoch 163/300\n",
      "8/8 [==============================] - 0s 57ms/step - loss: 0.0029\n",
      "Epoch 164/300\n",
      "8/8 [==============================] - 0s 49ms/step - loss: 0.0029\n",
      "Epoch 165/300\n",
      "8/8 [==============================] - 0s 56ms/step - loss: 0.0028\n",
      "Epoch 166/300\n",
      "8/8 [==============================] - 0s 63ms/step - loss: 0.0029\n",
      "Epoch 167/300\n",
      "8/8 [==============================] - 0s 59ms/step - loss: 0.0033\n",
      "Epoch 168/300\n",
      "8/8 [==============================] - 0s 58ms/step - loss: 0.0035\n",
      "Epoch 169/300\n",
      "8/8 [==============================] - 0s 56ms/step - loss: 0.0028\n",
      "Epoch 170/300\n",
      "8/8 [==============================] - 0s 54ms/step - loss: 0.0029\n",
      "Epoch 171/300\n",
      "8/8 [==============================] - 0s 58ms/step - loss: 0.0032\n",
      "Epoch 172/300\n",
      "8/8 [==============================] - 0s 54ms/step - loss: 0.0031\n",
      "Epoch 173/300\n",
      "8/8 [==============================] - 0s 55ms/step - loss: 0.0031\n",
      "Epoch 174/300\n",
      "8/8 [==============================] - 0s 62ms/step - loss: 0.0029\n",
      "Epoch 175/300\n",
      "8/8 [==============================] - 1s 71ms/step - loss: 0.0028\n",
      "Epoch 176/300\n",
      "8/8 [==============================] - 1s 69ms/step - loss: 0.0030\n",
      "Epoch 177/300\n",
      "8/8 [==============================] - 0s 57ms/step - loss: 0.0029\n",
      "Epoch 178/300\n",
      "8/8 [==============================] - 0s 53ms/step - loss: 0.0029\n",
      "Epoch 179/300\n",
      "8/8 [==============================] - 0s 55ms/step - loss: 0.0030\n",
      "Epoch 180/300\n",
      "8/8 [==============================] - 0s 54ms/step - loss: 0.0031\n",
      "Epoch 181/300\n",
      "8/8 [==============================] - 0s 54ms/step - loss: 0.0029\n",
      "Epoch 182/300\n",
      "8/8 [==============================] - 0s 59ms/step - loss: 0.0032\n",
      "Epoch 183/300\n",
      "8/8 [==============================] - 1s 69ms/step - loss: 0.0032\n",
      "Epoch 184/300\n",
      "8/8 [==============================] - 0s 52ms/step - loss: 0.0034\n",
      "Epoch 185/300\n",
      "8/8 [==============================] - 1s 71ms/step - loss: 0.0029\n",
      "Epoch 186/300\n",
      "8/8 [==============================] - 0s 54ms/step - loss: 0.0031\n",
      "Epoch 187/300\n",
      "8/8 [==============================] - 0s 63ms/step - loss: 0.0032\n",
      "Epoch 188/300\n",
      "8/8 [==============================] - 0s 61ms/step - loss: 0.0032\n",
      "Epoch 189/300\n",
      "8/8 [==============================] - 0s 51ms/step - loss: 0.0033\n",
      "Epoch 190/300\n",
      "8/8 [==============================] - 0s 54ms/step - loss: 0.0029\n",
      "Epoch 191/300\n",
      "8/8 [==============================] - 0s 62ms/step - loss: 0.0030\n",
      "Epoch 192/300\n",
      "8/8 [==============================] - 0s 55ms/step - loss: 0.0028\n",
      "Epoch 193/300\n",
      "8/8 [==============================] - 0s 55ms/step - loss: 0.0029\n",
      "Epoch 194/300\n",
      "8/8 [==============================] - 0s 60ms/step - loss: 0.0034\n",
      "Epoch 195/300\n",
      "8/8 [==============================] - 0s 56ms/step - loss: 0.0031\n",
      "Epoch 196/300\n",
      "8/8 [==============================] - 0s 49ms/step - loss: 0.0029\n",
      "Epoch 197/300\n",
      "8/8 [==============================] - 0s 53ms/step - loss: 0.0030\n",
      "Epoch 198/300\n",
      "8/8 [==============================] - 1s 65ms/step - loss: 0.0031\n",
      "Epoch 199/300\n",
      "8/8 [==============================] - 0s 49ms/step - loss: 0.0029\n",
      "Epoch 200/300\n",
      "8/8 [==============================] - 0s 54ms/step - loss: 0.0032\n",
      "Epoch 201/300\n",
      "8/8 [==============================] - 0s 49ms/step - loss: 0.0032\n",
      "Epoch 202/300\n",
      "8/8 [==============================] - 0s 49ms/step - loss: 0.0033\n",
      "Epoch 203/300\n",
      "8/8 [==============================] - 0s 60ms/step - loss: 0.0028\n",
      "Epoch 204/300\n",
      "8/8 [==============================] - 0s 52ms/step - loss: 0.0030\n",
      "Epoch 205/300\n",
      "8/8 [==============================] - 0s 52ms/step - loss: 0.0029\n",
      "Epoch 206/300\n",
      "8/8 [==============================] - 0s 47ms/step - loss: 0.0030\n",
      "Epoch 207/300\n",
      "8/8 [==============================] - 0s 48ms/step - loss: 0.0029\n",
      "Epoch 208/300\n",
      "8/8 [==============================] - 0s 51ms/step - loss: 0.0028\n",
      "Epoch 209/300\n",
      "8/8 [==============================] - 0s 56ms/step - loss: 0.0028\n",
      "Epoch 210/300\n",
      "8/8 [==============================] - 0s 55ms/step - loss: 0.0029\n",
      "Epoch 211/300\n",
      "8/8 [==============================] - 0s 63ms/step - loss: 0.0028\n",
      "Epoch 212/300\n",
      "8/8 [==============================] - 0s 55ms/step - loss: 0.0028\n",
      "Epoch 213/300\n",
      "8/8 [==============================] - 0s 52ms/step - loss: 0.0028\n",
      "Epoch 214/300\n",
      "8/8 [==============================] - 1s 68ms/step - loss: 0.0030\n",
      "Epoch 215/300\n",
      "8/8 [==============================] - 0s 55ms/step - loss: 0.0043\n",
      "Epoch 216/300\n",
      "8/8 [==============================] - 1s 64ms/step - loss: 0.0039\n",
      "Epoch 217/300\n",
      "8/8 [==============================] - 0s 53ms/step - loss: 0.0031\n",
      "Epoch 218/300\n",
      "8/8 [==============================] - 0s 54ms/step - loss: 0.0032\n",
      "Epoch 219/300\n",
      "8/8 [==============================] - 1s 79ms/step - loss: 0.0032\n",
      "Epoch 220/300\n",
      "8/8 [==============================] - 0s 58ms/step - loss: 0.0029\n",
      "Epoch 221/300\n",
      "8/8 [==============================] - 0s 50ms/step - loss: 0.0029\n",
      "Epoch 222/300\n",
      "8/8 [==============================] - 0s 53ms/step - loss: 0.0035\n",
      "Epoch 223/300\n",
      "8/8 [==============================] - 0s 52ms/step - loss: 0.0032\n",
      "Epoch 224/300\n",
      "8/8 [==============================] - 0s 55ms/step - loss: 0.0031\n",
      "Epoch 225/300\n",
      "8/8 [==============================] - 0s 54ms/step - loss: 0.0032\n",
      "Epoch 226/300\n",
      "8/8 [==============================] - 0s 54ms/step - loss: 0.0034\n",
      "Epoch 227/300\n",
      "8/8 [==============================] - 0s 58ms/step - loss: 0.0035\n",
      "Epoch 228/300\n",
      "8/8 [==============================] - 0s 57ms/step - loss: 0.0031\n",
      "Epoch 229/300\n",
      "8/8 [==============================] - 0s 60ms/step - loss: 0.0029\n",
      "Epoch 230/300\n",
      "8/8 [==============================] - 0s 58ms/step - loss: 0.0028\n",
      "Epoch 231/300\n",
      "8/8 [==============================] - 0s 54ms/step - loss: 0.0030\n",
      "Epoch 232/300\n",
      "8/8 [==============================] - 0s 55ms/step - loss: 0.0029\n",
      "Epoch 233/300\n",
      "8/8 [==============================] - 0s 57ms/step - loss: 0.0030\n",
      "Epoch 234/300\n",
      "8/8 [==============================] - 0s 52ms/step - loss: 0.0033\n",
      "Epoch 235/300\n",
      "8/8 [==============================] - 0s 57ms/step - loss: 0.0030\n",
      "Epoch 236/300\n",
      "8/8 [==============================] - 1s 65ms/step - loss: 0.0030\n",
      "Epoch 237/300\n",
      "8/8 [==============================] - 0s 58ms/step - loss: 0.0030\n",
      "Epoch 238/300\n",
      "8/8 [==============================] - 1s 73ms/step - loss: 0.0032\n",
      "Epoch 239/300\n",
      "8/8 [==============================] - 0s 63ms/step - loss: 0.0029\n",
      "Epoch 240/300\n",
      "8/8 [==============================] - 1s 77ms/step - loss: 0.0028\n",
      "Epoch 241/300\n",
      "8/8 [==============================] - 1s 61ms/step - loss: 0.0029\n",
      "Epoch 242/300\n",
      "8/8 [==============================] - 0s 63ms/step - loss: 0.0029\n",
      "Epoch 243/300\n",
      "8/8 [==============================] - 0s 57ms/step - loss: 0.0028\n",
      "Epoch 244/300\n",
      "8/8 [==============================] - 0s 55ms/step - loss: 0.0028\n",
      "Epoch 245/300\n",
      "8/8 [==============================] - 0s 60ms/step - loss: 0.0033\n",
      "Epoch 246/300\n",
      "8/8 [==============================] - 0s 58ms/step - loss: 0.0030\n",
      "Epoch 247/300\n",
      "8/8 [==============================] - 0s 58ms/step - loss: 0.0028\n",
      "Epoch 248/300\n",
      "8/8 [==============================] - 0s 59ms/step - loss: 0.0039\n",
      "Epoch 249/300\n",
      "8/8 [==============================] - 0s 58ms/step - loss: 0.0044\n",
      "Epoch 250/300\n",
      "8/8 [==============================] - 0s 56ms/step - loss: 0.0039\n",
      "Epoch 251/300\n",
      "8/8 [==============================] - 0s 54ms/step - loss: 0.0039\n",
      "Epoch 252/300\n",
      "8/8 [==============================] - 0s 56ms/step - loss: 0.0039\n",
      "Epoch 253/300\n",
      "8/8 [==============================] - 0s 58ms/step - loss: 0.0031\n",
      "Epoch 254/300\n",
      "8/8 [==============================] - 0s 61ms/step - loss: 0.0032\n",
      "Epoch 255/300\n",
      "8/8 [==============================] - 0s 61ms/step - loss: 0.0031\n",
      "Epoch 256/300\n",
      "8/8 [==============================] - 0s 60ms/step - loss: 0.0029\n",
      "Epoch 257/300\n",
      "8/8 [==============================] - 1s 59ms/step - loss: 0.0031\n",
      "Epoch 258/300\n",
      "8/8 [==============================] - 0s 60ms/step - loss: 0.0030\n",
      "Epoch 259/300\n",
      "8/8 [==============================] - 1s 63ms/step - loss: 0.0036\n",
      "Epoch 260/300\n",
      "8/8 [==============================] - 0s 51ms/step - loss: 0.0032\n",
      "Epoch 261/300\n",
      "8/8 [==============================] - 0s 63ms/step - loss: 0.0030\n",
      "Epoch 262/300\n",
      "8/8 [==============================] - 0s 54ms/step - loss: 0.0032\n",
      "Epoch 263/300\n",
      "8/8 [==============================] - 0s 62ms/step - loss: 0.0030\n",
      "Epoch 264/300\n",
      "8/8 [==============================] - 0s 54ms/step - loss: 0.0028\n",
      "Epoch 265/300\n",
      "8/8 [==============================] - 0s 54ms/step - loss: 0.0029\n",
      "Epoch 266/300\n",
      "8/8 [==============================] - 0s 50ms/step - loss: 0.0028\n",
      "Epoch 267/300\n",
      "8/8 [==============================] - 0s 51ms/step - loss: 0.0032\n",
      "Epoch 268/300\n",
      "8/8 [==============================] - 0s 51ms/step - loss: 0.0029\n",
      "Epoch 269/300\n",
      "8/8 [==============================] - 0s 57ms/step - loss: 0.0028\n",
      "Epoch 270/300\n",
      "8/8 [==============================] - 0s 55ms/step - loss: 0.0027\n",
      "Epoch 271/300\n",
      "8/8 [==============================] - 0s 57ms/step - loss: 0.0029\n",
      "Epoch 272/300\n",
      "8/8 [==============================] - 0s 60ms/step - loss: 0.0029\n",
      "Epoch 273/300\n",
      "8/8 [==============================] - 0s 58ms/step - loss: 0.0028\n",
      "Epoch 274/300\n",
      "8/8 [==============================] - 0s 57ms/step - loss: 0.0027\n",
      "Epoch 275/300\n",
      "8/8 [==============================] - 1s 72ms/step - loss: 0.0031\n",
      "Epoch 276/300\n",
      "8/8 [==============================] - 0s 58ms/step - loss: 0.0029\n",
      "Epoch 277/300\n",
      "8/8 [==============================] - 0s 62ms/step - loss: 0.0028\n",
      "Epoch 278/300\n",
      "8/8 [==============================] - 0s 59ms/step - loss: 0.0032\n",
      "Epoch 279/300\n",
      "8/8 [==============================] - 0s 54ms/step - loss: 0.0034\n",
      "Epoch 280/300\n",
      "8/8 [==============================] - 0s 54ms/step - loss: 0.0029\n",
      "Epoch 281/300\n",
      "8/8 [==============================] - 0s 58ms/step - loss: 0.0033\n",
      "Epoch 282/300\n",
      "8/8 [==============================] - 0s 54ms/step - loss: 0.0027\n",
      "Epoch 283/300\n",
      "8/8 [==============================] - 1s 61ms/step - loss: 0.0028\n",
      "Epoch 284/300\n",
      "8/8 [==============================] - 0s 58ms/step - loss: 0.0028\n",
      "Epoch 285/300\n",
      "8/8 [==============================] - 0s 63ms/step - loss: 0.0027\n",
      "Epoch 286/300\n",
      "8/8 [==============================] - 0s 55ms/step - loss: 0.0027\n",
      "Epoch 287/300\n",
      "8/8 [==============================] - 0s 54ms/step - loss: 0.0029\n",
      "Epoch 288/300\n",
      "8/8 [==============================] - 0s 55ms/step - loss: 0.0028\n",
      "Epoch 289/300\n",
      "8/8 [==============================] - 0s 54ms/step - loss: 0.0028\n",
      "Epoch 290/300\n",
      "8/8 [==============================] - 0s 53ms/step - loss: 0.0028\n",
      "Epoch 291/300\n",
      "8/8 [==============================] - 0s 54ms/step - loss: 0.0028\n",
      "Epoch 292/300\n",
      "8/8 [==============================] - 0s 55ms/step - loss: 0.0030\n",
      "Epoch 293/300\n",
      "8/8 [==============================] - 0s 55ms/step - loss: 0.0029\n",
      "Epoch 294/300\n",
      "8/8 [==============================] - 1s 69ms/step - loss: 0.0028\n",
      "Epoch 295/300\n",
      "8/8 [==============================] - 0s 63ms/step - loss: 0.0031\n",
      "Epoch 296/300\n",
      "8/8 [==============================] - 1s 66ms/step - loss: 0.0028\n",
      "Epoch 297/300\n",
      "8/8 [==============================] - 0s 61ms/step - loss: 0.0030\n",
      "Epoch 298/300\n",
      "8/8 [==============================] - 0s 56ms/step - loss: 0.0029\n",
      "Epoch 299/300\n",
      "8/8 [==============================] - 0s 63ms/step - loss: 0.0032\n",
      "Epoch 300/300\n",
      "8/8 [==============================] - 0s 60ms/step - loss: 0.0035\n"
     ]
    },
    {
     "data": {
      "text/plain": [
       "<keras.callbacks.History at 0x7f54942a0d60>"
      ]
     },
     "execution_count": 35,
     "metadata": {},
     "output_type": "execute_result"
    }
   ],
   "source": [
    "model.fit(x_train,y_train,epochs=300, verbose=1, )"
   ]
  },
  {
   "cell_type": "code",
   "execution_count": 36,
   "metadata": {},
   "outputs": [],
   "source": [
    "# model.evaluate(x_test, y_test)"
   ]
  },
  {
   "cell_type": "code",
   "execution_count": 37,
   "metadata": {},
   "outputs": [
    {
     "name": "stdout",
     "output_type": "stream",
     "text": [
      "Predicted Value 0.71139616\n",
      "Expected value 0.7083333333333334\n"
     ]
    }
   ],
   "source": [
    "print(\"Predicted Value\",model.predict(x_train)[4][0])\n",
    "print(\"Expected value\",y_train[4][0])\n"
   ]
  },
  {
   "cell_type": "code",
   "execution_count": 38,
   "metadata": {},
   "outputs": [],
   "source": [
    "predictions=model.predict(x_test)"
   ]
  },
  {
   "cell_type": "code",
   "execution_count": 39,
   "metadata": {},
   "outputs": [
    {
     "name": "stdout",
     "output_type": "stream",
     "text": [
      "Predicted Value 0.3856371\n",
      "Expected Value 0.41666666666666663\n"
     ]
    }
   ],
   "source": [
    "print(\"Predicted Value\",predictions[2][0])\n",
    "print(\"Expected Value\",y_test[2][0])"
   ]
  },
  {
   "cell_type": "code",
   "execution_count": 40,
   "metadata": {},
   "outputs": [
    {
     "data": {
      "text/plain": [
       "(105, 1)"
      ]
     },
     "execution_count": 40,
     "metadata": {},
     "output_type": "execute_result"
    }
   ],
   "source": [
    "predictions.shape\n"
   ]
  },
  {
   "cell_type": "code",
   "execution_count": 41,
   "metadata": {},
   "outputs": [
    {
     "data": {
      "text/plain": [
       "(105, 1)"
      ]
     },
     "execution_count": 41,
     "metadata": {},
     "output_type": "execute_result"
    }
   ],
   "source": [
    "y_test.shape"
   ]
  },
  {
   "cell_type": "code",
   "execution_count": 42,
   "metadata": {},
   "outputs": [],
   "source": [
    "pred_df=pd.DataFrame(predictions)"
   ]
  },
  {
   "cell_type": "code",
   "execution_count": 43,
   "metadata": {},
   "outputs": [],
   "source": [
    "pred_df['TrueValues']=y_test"
   ]
  },
  {
   "cell_type": "code",
   "execution_count": 44,
   "metadata": {},
   "outputs": [],
   "source": [
    "pred_df_new = pred_df.rename(columns={ 0: 'Predictions'})"
   ]
  },
  {
   "cell_type": "code",
   "execution_count": 45,
   "metadata": {},
   "outputs": [
    {
     "data": {
      "text/html": [
       "<div>\n",
       "<style scoped>\n",
       "    .dataframe tbody tr th:only-of-type {\n",
       "        vertical-align: middle;\n",
       "    }\n",
       "\n",
       "    .dataframe tbody tr th {\n",
       "        vertical-align: top;\n",
       "    }\n",
       "\n",
       "    .dataframe thead th {\n",
       "        text-align: right;\n",
       "    }\n",
       "</style>\n",
       "<table border=\"1\" class=\"dataframe\">\n",
       "  <thead>\n",
       "    <tr style=\"text-align: right;\">\n",
       "      <th></th>\n",
       "      <th>Predictions</th>\n",
       "      <th>TrueValues</th>\n",
       "    </tr>\n",
       "  </thead>\n",
       "  <tbody>\n",
       "    <tr>\n",
       "      <th>0</th>\n",
       "      <td>0.426426</td>\n",
       "      <td>0.541667</td>\n",
       "    </tr>\n",
       "    <tr>\n",
       "      <th>1</th>\n",
       "      <td>0.538898</td>\n",
       "      <td>0.416667</td>\n",
       "    </tr>\n",
       "    <tr>\n",
       "      <th>2</th>\n",
       "      <td>0.385637</td>\n",
       "      <td>0.416667</td>\n",
       "    </tr>\n",
       "    <tr>\n",
       "      <th>3</th>\n",
       "      <td>0.386377</td>\n",
       "      <td>0.458333</td>\n",
       "    </tr>\n",
       "    <tr>\n",
       "      <th>4</th>\n",
       "      <td>0.468255</td>\n",
       "      <td>0.500000</td>\n",
       "    </tr>\n",
       "    <tr>\n",
       "      <th>...</th>\n",
       "      <td>...</td>\n",
       "      <td>...</td>\n",
       "    </tr>\n",
       "    <tr>\n",
       "      <th>100</th>\n",
       "      <td>0.196688</td>\n",
       "      <td>0.291667</td>\n",
       "    </tr>\n",
       "    <tr>\n",
       "      <th>101</th>\n",
       "      <td>0.236979</td>\n",
       "      <td>0.208333</td>\n",
       "    </tr>\n",
       "    <tr>\n",
       "      <th>102</th>\n",
       "      <td>0.206417</td>\n",
       "      <td>0.250000</td>\n",
       "    </tr>\n",
       "    <tr>\n",
       "      <th>103</th>\n",
       "      <td>0.250739</td>\n",
       "      <td>0.250000</td>\n",
       "    </tr>\n",
       "    <tr>\n",
       "      <th>104</th>\n",
       "      <td>0.295877</td>\n",
       "      <td>0.291667</td>\n",
       "    </tr>\n",
       "  </tbody>\n",
       "</table>\n",
       "<p>105 rows × 2 columns</p>\n",
       "</div>"
      ],
      "text/plain": [
       "     Predictions  TrueValues\n",
       "0       0.426426    0.541667\n",
       "1       0.538898    0.416667\n",
       "2       0.385637    0.416667\n",
       "3       0.386377    0.458333\n",
       "4       0.468255    0.500000\n",
       "..           ...         ...\n",
       "100     0.196688    0.291667\n",
       "101     0.236979    0.208333\n",
       "102     0.206417    0.250000\n",
       "103     0.250739    0.250000\n",
       "104     0.295877    0.291667\n",
       "\n",
       "[105 rows x 2 columns]"
      ]
     },
     "execution_count": 45,
     "metadata": {},
     "output_type": "execute_result"
    }
   ],
   "source": [
    "pred_df_new"
   ]
  },
  {
   "cell_type": "code",
   "execution_count": 46,
   "metadata": {},
   "outputs": [
    {
     "data": {
      "text/plain": [
       "Text(0.5, 1.0, 'Predictions VS True Values on Testing Set')"
      ]
     },
     "execution_count": 46,
     "metadata": {},
     "output_type": "execute_result"
    },
    {
     "data": {
      "image/png": "[encoded data removed]",
      "text/plain": [
       "<Figure size 864x576 with 1 Axes>"
      ]
     },
     "metadata": {
      "needs_background": "light"
     },
     "output_type": "display_data"
    }
   ],
   "source": [
    "\n",
    "plt.figure(figsize=(12,8))\n",
    "sns.lineplot(data= pred_df_new)\n",
    "plt.title(\"Predictions VS True Values on Testing Set\")"
   ]
  },
  {
   "cell_type": "code",
   "execution_count": 47,
   "metadata": {},
   "outputs": [],
   "source": [
    "# Weather Predictions for next 30 Days"
   ]
  },
  {
   "cell_type": "code",
   "execution_count": 48,
   "metadata": {},
   "outputs": [
    {
     "data": {
      "text/plain": [
       "(362, 1)"
      ]
     },
     "execution_count": 48,
     "metadata": {},
     "output_type": "execute_result"
    }
   ],
   "source": [
    "data_scaled.shape"
   ]
  },
  {
   "cell_type": "code",
   "execution_count": 49,
   "metadata": {},
   "outputs": [],
   "source": [
    "x_input=data_scaled[:20]"
   ]
  },
  {
   "cell_type": "code",
   "execution_count": 50,
   "metadata": {},
   "outputs": [
    {
     "data": {
      "text/plain": [
       "(20, 1)"
      ]
     },
     "execution_count": 50,
     "metadata": {},
     "output_type": "execute_result"
    }
   ],
   "source": [
    "x_input.shape"
   ]
  },
  {
   "cell_type": "code",
   "execution_count": 51,
   "metadata": {},
   "outputs": [],
   "source": [
    "# now reshaping the data\n",
    "x_input = x_input.reshape(1, -1)"
   ]
  },
  {
   "cell_type": "code",
   "execution_count": 52,
   "metadata": {},
   "outputs": [
    {
     "data": {
      "text/plain": [
       "(1, 20)"
      ]
     },
     "execution_count": 52,
     "metadata": {},
     "output_type": "execute_result"
    }
   ],
   "source": [
    "x_input.shape"
   ]
  },
  {
   "cell_type": "code",
   "execution_count": 53,
   "metadata": {},
   "outputs": [],
   "source": [
    "# x_input = x_input.reshape((1, 20,1))\n",
    "# yhat = model.predict(x_input, verbose=0)"
   ]
  },
  {
   "cell_type": "code",
   "execution_count": 54,
   "metadata": {},
   "outputs": [],
   "source": [
    "temp_input = list(x_input)\n",
    "temp_input = temp_input[0].tolist()"
   ]
  },
  {
   "cell_type": "code",
   "execution_count": 60,
   "metadata": {},
   "outputs": [
    {
     "name": "stdout",
     "output_type": "stream",
     "text": [
      "0 day input [0.36898214 0.34240159 0.30866012 0.26610491 0.21792899 0.17341268\n",
      " 0.14416793 0.14259471 0.17898107 0.25775072 0.37184989 0.50163358\n",
      " 0.62076646 0.7102769  0.76315844 0.78131676 0.77379912 0.7489571\n",
      " 0.66590464 0.5552271 ]\n",
      "0 day output [[0.46588743]]\n",
      "1 day input [0.34240159 0.30866012 0.26610491 0.21792899 0.17341268 0.14416793\n",
      " 0.14259471 0.17898107 0.25775072 0.37184989 0.50163358 0.62076646\n",
      " 0.7102769  0.76315844 0.78131676 0.77379912 0.7489571  0.66590464\n",
      " 0.5552271  0.46588743]\n",
      "1 day output [[0.40707022]]\n",
      "2 day input [0.30866012 0.26610491 0.21792899 0.17341268 0.14416793 0.14259471\n",
      " 0.17898107 0.25775072 0.37184989 0.50163358 0.62076646 0.7102769\n",
      " 0.76315844 0.78131676 0.77379912 0.7489571  0.66590464 0.5552271\n",
      " 0.46588743 0.40707022]\n",
      "2 day output [[0.3728321]]\n",
      "3 day input [0.26610491 0.21792899 0.17341268 0.14416793 0.14259471 0.17898107\n",
      " 0.25775072 0.37184989 0.50163358 0.62076646 0.7102769  0.76315844\n",
      " 0.78131676 0.77379912 0.7489571  0.66590464 0.5552271  0.46588743\n",
      " 0.40707022 0.37283209]\n",
      "3 day output [[0.35169345]]\n",
      "4 day input [0.21792899 0.17341268 0.14416793 0.14259471 0.17898107 0.25775072\n",
      " 0.37184989 0.50163358 0.62076646 0.7102769  0.76315844 0.78131676\n",
      " 0.77379912 0.7489571  0.66590464 0.5552271  0.46588743 0.40707022\n",
      " 0.37283209 0.35169345]\n",
      "4 day output [[0.33500606]]\n",
      "5 day input [0.17341268 0.14416793 0.14259471 0.17898107 0.25775072 0.37184989\n",
      " 0.50163358 0.62076646 0.7102769  0.76315844 0.78131676 0.77379912\n",
      " 0.7489571  0.66590464 0.5552271  0.46588743 0.40707022 0.37283209\n",
      " 0.35169345 0.33500606]\n",
      "5 day output [[0.3169028]]\n",
      "6 day input [0.14416793 0.14259471 0.17898107 0.25775072 0.37184989 0.50163358\n",
      " 0.62076646 0.7102769  0.76315844 0.78131676 0.77379912 0.7489571\n",
      " 0.66590464 0.5552271  0.46588743 0.40707022 0.37283209 0.35169345\n",
      " 0.33500606 0.31690279]\n",
      "6 day output [[0.29257905]]\n",
      "7 day input [0.14259471 0.17898107 0.25775072 0.37184989 0.50163358 0.62076646\n",
      " 0.7102769  0.76315844 0.78131676 0.77379912 0.7489571  0.66590464\n",
      " 0.5552271  0.46588743 0.40707022 0.37283209 0.35169345 0.33500606\n",
      " 0.31690279 0.29257905]\n",
      "7 day output [[0.2589619]]\n",
      "8 day input [0.17898107 0.25775072 0.37184989 0.50163358 0.62076646 0.7102769\n",
      " 0.76315844 0.78131676 0.77379912 0.7489571  0.66590464 0.5552271\n",
      " 0.46588743 0.40707022 0.37283209 0.35169345 0.33500606 0.31690279\n",
      " 0.29257905 0.25896189]\n",
      "8 day output [[0.21876928]]\n",
      "9 day input [0.25775072 0.37184989 0.50163358 0.62076646 0.7102769  0.76315844\n",
      " 0.78131676 0.77379912 0.7489571  0.66590464 0.5552271  0.46588743\n",
      " 0.40707022 0.37283209 0.35169345 0.33500606 0.31690279 0.29257905\n",
      " 0.25896189 0.21876928]\n",
      "9 day output [[0.18243982]]\n",
      "10 day input [0.37184989 0.50163358 0.62076646 0.7102769  0.76315844 0.78131676\n",
      " 0.77379912 0.7489571  0.66590464 0.5552271  0.46588743 0.40707022\n",
      " 0.37283209 0.35169345 0.33500606 0.31690279 0.29257905 0.25896189\n",
      " 0.21876928 0.18243982]\n",
      "10 day output [[0.16368906]]\n",
      "11 day input [0.50163358 0.62076646 0.7102769  0.76315844 0.78131676 0.77379912\n",
      " 0.7489571  0.66590464 0.5552271  0.46588743 0.40707022 0.37283209\n",
      " 0.35169345 0.33500606 0.31690279 0.29257905 0.25896189 0.21876928\n",
      " 0.18243982 0.16368906]\n",
      "11 day output [[0.17641279]]\n",
      "12 day input [0.62076646 0.7102769  0.76315844 0.78131676 0.77379912 0.7489571\n",
      " 0.66590464 0.5552271  0.46588743 0.40707022 0.37283209 0.35169345\n",
      " 0.33500606 0.31690279 0.29257905 0.25896189 0.21876928 0.18243982\n",
      " 0.16368906 0.17641279]\n",
      "12 day output [[0.23065993]]\n",
      "13 day input [0.7102769  0.76315844 0.78131676 0.77379912 0.7489571  0.66590464\n",
      " 0.5552271  0.46588743 0.40707022 0.37283209 0.35169345 0.33500606\n",
      " 0.31690279 0.29257905 0.25896189 0.21876928 0.18243982 0.16368906\n",
      " 0.17641279 0.23065993]\n",
      "13 day output [[0.32662535]]\n",
      "14 day input [0.76315844 0.78131676 0.77379912 0.7489571  0.66590464 0.5552271\n",
      " 0.46588743 0.40707022 0.37283209 0.35169345 0.33500606 0.31690279\n",
      " 0.29257905 0.25896189 0.21876928 0.18243982 0.16368906 0.17641279\n",
      " 0.23065993 0.32662535]\n",
      "14 day output [[0.45021042]]\n",
      "15 day input [0.78131676 0.77379912 0.7489571  0.66590464 0.5552271  0.46588743\n",
      " 0.40707022 0.37283209 0.35169345 0.33500606 0.31690279 0.29257905\n",
      " 0.25896189 0.21876928 0.18243982 0.16368906 0.17641279 0.23065993\n",
      " 0.32662535 0.45021042]\n",
      "15 day output [[0.57523537]]\n",
      "16 day input [0.77379912 0.7489571  0.66590464 0.5552271  0.46588743 0.40707022\n",
      " 0.37283209 0.35169345 0.33500606 0.31690279 0.29257905 0.25896189\n",
      " 0.21876928 0.18243982 0.16368906 0.17641279 0.23065993 0.32662535\n",
      " 0.45021042 0.57523537]\n",
      "16 day output [[0.67737037]]\n",
      "17 day input [0.7489571  0.66590464 0.5552271  0.46588743 0.40707022 0.37283209\n",
      " 0.35169345 0.33500606 0.31690279 0.29257905 0.25896189 0.21876928\n",
      " 0.18243982 0.16368906 0.17641279 0.23065993 0.32662535 0.45021042\n",
      " 0.57523537 0.67737037]\n",
      "17 day output [[0.74508446]]\n",
      "18 day input [0.66590464 0.5552271  0.46588743 0.40707022 0.37283209 0.35169345\n",
      " 0.33500606 0.31690279 0.29257905 0.25896189 0.21876928 0.18243982\n",
      " 0.16368906 0.17641279 0.23065993 0.32662535 0.45021042 0.57523537\n",
      " 0.67737037 0.74508446]\n",
      "18 day output [[0.7759618]]\n",
      "19 day input [0.5552271  0.46588743 0.40707022 0.37283209 0.35169345 0.33500606\n",
      " 0.31690279 0.29257905 0.25896189 0.21876928 0.18243982 0.16368906\n",
      " 0.17641279 0.23065993 0.32662535 0.45021042 0.57523537 0.67737037\n",
      " 0.74508446 0.77596182]\n",
      "19 day output [[0.7747392]]\n",
      "20 day input [0.46588743 0.40707022 0.37283209 0.35169345 0.33500606 0.31690279\n",
      " 0.29257905 0.25896189 0.21876928 0.18243982 0.16368906 0.17641279\n",
      " 0.23065993 0.32662535 0.45021042 0.57523537 0.67737037 0.74508446\n",
      " 0.77596182 0.77473921]\n",
      "20 day output [[0.7550599]]\n",
      "21 day input [0.40707022 0.37283209 0.35169345 0.33500606 0.31690279 0.29257905\n",
      " 0.25896189 0.21876928 0.18243982 0.16368906 0.17641279 0.23065993\n",
      " 0.32662535 0.45021042 0.57523537 0.67737037 0.74508446 0.77596182\n",
      " 0.77473921 0.7550599 ]\n",
      "21 day output [[0.6889566]]\n",
      "22 day input [0.37283209 0.35169345 0.33500606 0.31690279 0.29257905 0.25896189\n",
      " 0.21876928 0.18243982 0.16368906 0.17641279 0.23065993 0.32662535\n",
      " 0.45021042 0.57523537 0.67737037 0.74508446 0.77596182 0.77473921\n",
      " 0.7550599  0.68895662]\n",
      "22 day output [[0.5831697]]\n",
      "23 day input [0.35169345 0.33500606 0.31690279 0.29257905 0.25896189 0.21876928\n",
      " 0.18243982 0.16368906 0.17641279 0.23065993 0.32662535 0.45021042\n",
      " 0.57523537 0.67737037 0.74508446 0.77596182 0.77473921 0.7550599\n",
      " 0.68895662 0.5831697 ]\n",
      "23 day output [[0.48910064]]\n",
      "24 day input [0.33500606 0.31690279 0.29257905 0.25896189 0.21876928 0.18243982\n",
      " 0.16368906 0.17641279 0.23065993 0.32662535 0.45021042 0.57523537\n",
      " 0.67737037 0.74508446 0.77596182 0.77473921 0.7550599  0.68895662\n",
      " 0.5831697  0.48910064]\n",
      "24 day output [[0.4231413]]\n",
      "25 day input [0.31690279 0.29257905 0.25896189 0.21876928 0.18243982 0.16368906\n",
      " 0.17641279 0.23065993 0.32662535 0.45021042 0.57523537 0.67737037\n",
      " 0.74508446 0.77596182 0.77473921 0.7550599  0.68895662 0.5831697\n",
      " 0.48910064 0.4231413 ]\n",
      "25 day output [[0.38369298]]\n",
      "26 day input [0.29257905 0.25896189 0.21876928 0.18243982 0.16368906 0.17641279\n",
      " 0.23065993 0.32662535 0.45021042 0.57523537 0.67737037 0.74508446\n",
      " 0.77596182 0.77473921 0.7550599  0.68895662 0.5831697  0.48910064\n",
      " 0.4231413  0.38369298]\n",
      "26 day output [[0.36002114]]\n",
      "27 day input [0.25896189 0.21876928 0.18243982 0.16368906 0.17641279 0.23065993\n",
      " 0.32662535 0.45021042 0.57523537 0.67737037 0.74508446 0.77596182\n",
      " 0.77473921 0.7550599  0.68895662 0.5831697  0.48910064 0.4231413\n",
      " 0.38369298 0.36002114]\n",
      "27 day output [[0.3427172]]\n",
      "28 day input [0.21876928 0.18243982 0.16368906 0.17641279 0.23065993 0.32662535\n",
      " 0.45021042 0.57523537 0.67737037 0.74508446 0.77596182 0.77473921\n",
      " 0.7550599  0.68895662 0.5831697  0.48910064 0.4231413  0.38369298\n",
      " 0.36002114 0.3427172 ]\n",
      "28 day output [[0.32552826]]\n",
      "29 day input [0.18243982 0.16368906 0.17641279 0.23065993 0.32662535 0.45021042\n",
      " 0.57523537 0.67737037 0.74508446 0.77596182 0.77473921 0.7550599\n",
      " 0.68895662 0.5831697  0.48910064 0.4231413  0.38369298 0.36002114\n",
      " 0.3427172  0.32552826]\n",
      "29 day output [[0.30364254]]\n",
      "[[0.4658874273300171], [0.40707021951675415], [0.3728320896625519], [0.35169345140457153], [0.33500605821609497], [0.3169027864933014], [0.2925790548324585], [0.25896188616752625], [0.21876928210258484], [0.18243981897830963], [0.16368906199932098], [0.17641279101371765], [0.23065993189811707], [0.32662534713745117], [0.45021042227745056], [0.5752353668212891], [0.6773703694343567], [0.7450844645500183], [0.7759618163108826], [0.7747392058372498], [0.7550598978996277], [0.688956618309021], [0.58316969871521], [0.4891006350517273], [0.4231413006782532], [0.38369297981262207], [0.3600211441516876], [0.3427172005176544], [0.32552826404571533], [0.30364254117012024]]\n"
     ]
    }
   ],
   "source": [
    "# demonstrate prediction for next 30 days\n",
    "from numpy import array\n",
    "\n",
    "lst_output=[]\n",
    "n_steps=20\n",
    "i=0\n",
    "while(i<30):\n",
    "    \n",
    "    if(len(temp_input)>20):\n",
    "        #print(temp_input)\n",
    "        x_input=np.array(temp_input[1:])\n",
    "        print(\"{} day input {}\".format(i,x_input))\n",
    "        x_input=x_input.reshape(1,-1)\n",
    "        x_input = x_input.reshape((1, n_steps, 1))\n",
    "        #print(x_input)\n",
    "        yhat = model.predict(x_input, verbose=0)\n",
    "        print(\"{} day output {}\".format(i,yhat))\n",
    "        temp_input.extend(yhat[0].tolist())\n",
    "        temp_input=temp_input[1:]\n",
    "        #print(temp_input)\n",
    "        lst_output.extend(yhat.tolist())\n",
    "        i=i+1\n",
    "    else:\n",
    "        x_input = x_input.reshape((1, n_steps,1))\n",
    "        yhat = model.predict(x_input, verbose=0)\n",
    "        print(yhat[0])\n",
    "        temp_input.extend(yhat[0].tolist())\n",
    "#         print(len(temp_input))\n",
    "        lst_output.extend(yhat.tolist())\n",
    "        i=i+1\n",
    "    \n",
    "\n",
    "print(lst_output)"
   ]
  },
  {
   "cell_type": "code",
   "execution_count": 61,
   "metadata": {},
   "outputs": [],
   "source": [
    "day_new = np.arange(1,363)\n",
    "day_pred = np.arange(363,393)"
   ]
  },
  {
   "cell_type": "code",
   "execution_count": 62,
   "metadata": {},
   "outputs": [
    {
     "data": {
      "text/plain": [
       "[<matplotlib.lines.Line2D at 0x7f5464034400>]"
      ]
     },
     "execution_count": 62,
     "metadata": {},
     "output_type": "execute_result"
    },
    {
     "data": {
      "image/png": "[encoded data removed]",
      "text/plain": [
       "<Figure size 864x576 with 1 Axes>"
      ]
     },
     "metadata": {
      "needs_background": "light"
     },
     "output_type": "display_data"
    }
   ],
   "source": [
    "plt.figure(figsize=(12,8))\n",
    "plt.plot(day_new,data_scaled)\n",
    "plt.plot(day_pred,lst_output)"
   ]
  },
  {
   "cell_type": "code",
   "execution_count": 63,
   "metadata": {},
   "outputs": [
    {
     "data": {
      "text/plain": [
       "array([[0.83333333],\n",
       "       [0.75      ],\n",
       "       [0.58333333],\n",
       "       [0.58333333],\n",
       "       [0.54166667]])"
      ]
     },
     "execution_count": 63,
     "metadata": {},
     "output_type": "execute_result"
    }
   ],
   "source": [
    "data_scaled[:5]"
   ]
  },
  {
   "cell_type": "code",
   "execution_count": 64,
   "metadata": {},
   "outputs": [
    {
     "data": {
      "text/plain": [
       "[<matplotlib.lines.Line2D at 0x7f5464025640>]"
      ]
     },
     "execution_count": 64,
     "metadata": {},
     "output_type": "execute_result"
    },
    {
     "data": {
      "image/png": "[encoded data removed]",
      "text/plain": [
       "<Figure size 864x576 with 1 Axes>"
      ]
     },
     "metadata": {
      "needs_background": "light"
     },
     "output_type": "display_data"
    }
   ],
   "source": [
    "df3 = data_scaled.tolist()\n",
    "df3.extend(lst_output)\n",
    "plt.figure(figsize=(12,8))\n",
    "plt.plot(df3)"
   ]
  },
  {
   "cell_type": "code",
   "execution_count": null,
   "metadata": {},
   "outputs": [],
   "source": []
  }
 ],
 "metadata": {
  "kernelspec": {
   "display_name": "Python 3.9",
   "language": "python",
   "name": "python3"
  },
  "language_info": {
   "codemirror_mode": {
    "name": "ipython",
    "version": 3
   },
   "file_extension": ".py",
   "mimetype": "text/x-python",
   "name": "python",
   "nbconvert_exporter": "python",
   "pygments_lexer": "ipython3",
   "version": "3.9.7"
  }
 },
 "nbformat": 4,
 "nbformat_minor": 1
}
